{
 "cells": [
  {
   "cell_type": "code",
   "execution_count": null,
   "metadata": {},
   "outputs": [],
   "source": [
    "#introduction of f strings:\n"
   ]
  },
  {
   "cell_type": "code",
   "execution_count": 1,
   "metadata": {},
   "outputs": [
    {
     "name": "stdout",
     "output_type": "stream",
     "text": [
      "kuna prudvi\n"
     ]
    }
   ],
   "source": [
    "name1='kuna'\n",
    "name2='prudvi'\n",
    "fullname=f'{name1} {name2}'\n",
    "print(fullname)"
   ]
  },
  {
   "cell_type": "code",
   "execution_count": 2,
   "metadata": {},
   "outputs": [
    {
     "name": "stdout",
     "output_type": "stream",
     "text": [
      "Kuna Prudvi\n"
     ]
    }
   ],
   "source": [
    "print(fullname.title())"
   ]
  },
  {
   "cell_type": "code",
   "execution_count": null,
   "metadata": {},
   "outputs": [],
   "source": [
    "#we can include messages too\n",
    " "
   ]
  },
  {
   "cell_type": "code",
   "execution_count": null,
   "metadata": {},
   "outputs": [],
   "source": [
    "#f\"{placeholder1} {placeholder2}\"\n"
   ]
  },
  {
   "cell_type": "code",
   "execution_count": 5,
   "metadata": {},
   "outputs": [],
   "source": [
    "message=f'Ur doing good job mr {fullname.title()}'"
   ]
  },
  {
   "cell_type": "code",
   "execution_count": 6,
   "metadata": {},
   "outputs": [
    {
     "name": "stdout",
     "output_type": "stream",
     "text": [
      "Ur doing good job mr Kuna Prudvi\n"
     ]
    }
   ],
   "source": [
    "print(message)"
   ]
  },
  {
   "cell_type": "code",
   "execution_count": 7,
   "metadata": {},
   "outputs": [
    {
     "name": "stdout",
     "output_type": "stream",
     "text": [
      "hellopuddu\n"
     ]
    }
   ],
   "source": [
    "#not only in single quotes but also in double quotes\n",
    "n1=\"hello\"\n",
    "n2=\"puddu\"\n",
    "n3=f\"{n1}{n2}\"\n",
    "print(n3)"
   ]
  },
  {
   "cell_type": "code",
   "execution_count": null,
   "metadata": {},
   "outputs": [],
   "source": [
    "#so if we give space between the placeholders then it displays like in shown above.\n",
    "#adding white spaces to the strings"
   ]
  },
  {
   "cell_type": "code",
   "execution_count": 8,
   "metadata": {},
   "outputs": [
    {
     "name": "stdout",
     "output_type": "stream",
     "text": [
      "python java\n"
     ]
    }
   ],
   "source": [
    "print('python','java')\n"
   ]
  },
  {
   "cell_type": "code",
   "execution_count": 9,
   "metadata": {},
   "outputs": [
    {
     "name": "stdout",
     "output_type": "stream",
     "text": [
      "my name is prudvi\n"
     ]
    }
   ],
   "source": [
    "print(\"my\",\"name\",\"is\",\"prudvi\")"
   ]
  },
  {
   "cell_type": "code",
   "execution_count": 10,
   "metadata": {},
   "outputs": [
    {
     "name": "stdout",
     "output_type": "stream",
     "text": [
      "\n",
      "python \n",
      "java\n"
     ]
    }
   ],
   "source": [
    "#we have a new concept i,e., delimiters\n",
    "print('\\npython','\\njava')"
   ]
  },
  {
   "cell_type": "code",
   "execution_count": 11,
   "metadata": {},
   "outputs": [
    {
     "name": "stdout",
     "output_type": "stream",
     "text": [
      "\tpython \tjava\n"
     ]
    }
   ],
   "source": [
    "print('\\tpython','\\tjava')\n"
   ]
  },
  {
   "cell_type": "code",
   "execution_count": 14,
   "metadata": {},
   "outputs": [
    {
     "name": "stdout",
     "output_type": "stream",
     "text": [
      "\n",
      "datatypes \t1.string \t2.list \t3tuple\n",
      "\n",
      "datatypes: \t\n",
      "1.string \t\n",
      "2.list \t\n",
      "3tuple\n",
      "\n",
      "datatypes: \n",
      "\t1.string \n",
      "\t2.list \n",
      "\t3tuple\n"
     ]
    }
   ],
   "source": [
    "print(\"\\ndatatypes\",\"\\t1.string\",\"\\t2.list\",\"\\t3tuple\")\n",
    "print(\"\\ndatatypes:\",\"\\t\\n1.string\",\"\\t\\n2.list\",\"\\t\\n3tuple\")\n",
    "print(\"\\ndatatypes:\",\"\\n\\t1.string\",\"\\n\\t2.list\",\"\\n\\t3tuple\")"
   ]
  },
  {
   "cell_type": "code",
   "execution_count": null,
   "metadata": {},
   "outputs": [],
   "source": []
  },
  {
   "cell_type": "code",
   "execution_count": null,
   "metadata": {},
   "outputs": [],
   "source": []
  }
 ],
 "metadata": {
  "kernelspec": {
   "display_name": "Python 3",
   "language": "python",
   "name": "python3"
  },
  "language_info": {
   "codemirror_mode": {
    "name": "ipython",
    "version": 3
   },
   "file_extension": ".py",
   "mimetype": "text/x-python",
   "name": "python",
   "nbconvert_exporter": "python",
   "pygments_lexer": "ipython3",
   "version": "3.7.3"
  }
 },
 "nbformat": 4,
 "nbformat_minor": 2
}
